{
 "cells": [
  {
   "cell_type": "markdown",
   "metadata": {},
   "source": [
    "### TASK 1 \n",
    "### Reg No. : GO_STP_8305 \n",
    "#### Date : 21.05.2021"
   ]
  },
  {
   "cell_type": "markdown",
   "metadata": {},
   "source": [
    "**1. We are having 3 list like this**\n",
    "\n",
    "Colors = [“Yellow”,”Green”,”White”,”Black”]\n",
    "\n",
    "Fruits = [“Apple”,”Papaya”,”Mango”,”Orange”]\n",
    "\n",
    "Animals = [“Tiger”,”Lion”,”Deer”,”Zebra”]\n",
    "\n",
    "**i. Write a program that asks user to enter a Color/Fruit/Animal name and it should tell which category belongs to , like its is a fruit or color or Animal**"
   ]
  },
  {
   "cell_type": "code",
   "execution_count": 1,
   "metadata": {},
   "outputs": [
    {
     "name": "stdout",
     "output_type": "stream",
     "text": [
      "Enter the Name : Black\n",
      "Category : Colors\n"
     ]
    }
   ],
   "source": [
    "Colors = ['Yellow','Green','White','Black']\n",
    "Fruits=['Apple','Papaya','Mango','Orange']\n",
    "Animals=['Tiger','Lion','Deer','Zebra']\n",
    "\n",
    "name = input('Enter the Name : ')\n",
    "\n",
    "if name in Colors:\n",
    "    category = \"Colors\"\n",
    "elif name in Fruits:\n",
    "    category = \"Fruits\"\n",
    "elif name in Animals:\n",
    "    category = \"Animals\"\n",
    "else:\n",
    "    category = \"Not Valid\"\n",
    "    \n",
    "print(\"Category :\", category)"
   ]
  },
  {
   "cell_type": "markdown",
   "metadata": {},
   "source": [
    "**ii. Write a program that asks user to enter two cities and it tells you if they both are in same country or not. For example if I\n",
    "enter yellow and Black, it will print \"Both are colors\" but if I enter yellow and Tiger it should print \"They don't belong to\n",
    "same category\"**"
   ]
  },
  {
   "cell_type": "code",
   "execution_count": 2,
   "metadata": {},
   "outputs": [
    {
     "name": "stdout",
     "output_type": "stream",
     "text": [
      "Enter the Name 1 : Deer\n",
      "Enter the Name 2 : Lion\n",
      "Category : Both are Animals\n"
     ]
    }
   ],
   "source": [
    "name_1 = input('Enter the Name 1 : ')\n",
    "name_2 = input('Enter the Name 2 : ')\n",
    "\n",
    "if name_1 in Colors and name_2 in Colors:\n",
    "    category = \"Both are Colors\"\n",
    "elif name_1 in Fruits and name_2 in Fruits:\n",
    "    category = \"Both are Fruits\"\n",
    "elif name_1 in Animals and name_2 in Animals:\n",
    "    category = \"Both are Animals\"\n",
    "else:\n",
    "    category = \"They don't belong to same category or Not Valid Input\"\n",
    "    \n",
    "print(\"Category :\", category)"
   ]
  },
  {
   "cell_type": "markdown",
   "metadata": {},
   "source": [
    "**2.  Write a python program that can tell you if your grade score good or not . Good Score range is 40 to 60.**\n",
    "\n",
    "  i. Ask user to enter his score.\n",
    "\n",
    "  ii. If it is below 40 to 60 range then print that score is low\n",
    "\n",
    "  iii. If it is above 60 then print that it is good otherwise print that it is normal"
   ]
  },
  {
   "cell_type": "code",
   "execution_count": 3,
   "metadata": {},
   "outputs": [
    {
     "name": "stdout",
     "output_type": "stream",
     "text": [
      "Enter your score : 99\n",
      "Good\n"
     ]
    }
   ],
   "source": [
    "score = int(input(\"Enter your score : \"))\n",
    "\n",
    "if score > 60:\n",
    "    print(\"Good\")\n",
    "elif score < 40:\n",
    "    print(\"Poor\")\n",
    "else:\n",
    "    print(\"Average\")"
   ]
  },
  {
   "cell_type": "markdown",
   "metadata": {},
   "source": [
    "**3.  After appearing in exam 10 times you got this result,**\n",
    "\n",
    "result = [\"Pass\",\"Fail\",\"Fail\",\"Pass\",\"Fail\",\"Pass\",\"Pass\",\"Fail\",\"Fail\",\"Fail\"]\n",
    "\n",
    "Using for loop figure out how many times you got Pass"
   ]
  },
  {
   "cell_type": "code",
   "execution_count": 4,
   "metadata": {},
   "outputs": [
    {
     "name": "stdout",
     "output_type": "stream",
     "text": [
      "4\n"
     ]
    }
   ],
   "source": [
    "resultList = [\"Pass\",\"Fail\",\"Fail\",\"Pass\",\"Fail\",\"Pass\",\"Pass\",\"Fail\",\"Fail\",\"Fail\"]\n",
    "passCount = 0\n",
    "for result in resultList:\n",
    "    if result == \"Pass\":\n",
    "        passCount += 1 \n",
    "print(passCount)"
   ]
  },
  {
   "cell_type": "markdown",
   "metadata": {},
   "source": [
    "**4.  Write a program that prints following shape**"
   ]
  },
  {
   "cell_type": "code",
   "execution_count": 5,
   "metadata": {},
   "outputs": [
    {
     "name": "stdout",
     "output_type": "stream",
     "text": [
      "\n",
      "* \n",
      "* * \n",
      "* * * \n",
      "* * * * \n",
      "* * * * * \n",
      "* * * * \n",
      "* * * \n",
      "* * \n",
      "* \n"
     ]
    }
   ],
   "source": [
    "for row in range(5):\n",
    "    for col in range(row):\n",
    "        print ('* ', end=\"\")\n",
    "    print('')\n",
    "for row in range(5,0,-1):\n",
    "    for col in range(row):\n",
    "        print('* ', end=\"\")\n",
    "    print('')"
   ]
  },
  {
   "cell_type": "markdown",
   "metadata": {},
   "source": [
    "**5.   Lets say you are running a 50 km race. Write a program that,**\n",
    "\n",
    "##### (i) Upon completing each 10 km asks you \"are you tired?\"\n",
    "##### (ii) If you reply \"yes\" then it should break and print \"you didn't finish the race\"\n",
    "##### (iii) If you reply \"no\" then it should continue and ask \"are you tired\" on every km\n",
    "##### (iv) If you finish all 50 km then it should print congratulations message"
   ]
  },
  {
   "cell_type": "code",
   "execution_count": 6,
   "metadata": {},
   "outputs": [
    {
     "name": "stdout",
     "output_type": "stream",
     "text": [
      "are you tired?\n",
      "Enter Yes or No : no\n",
      "are you tired?\n",
      "Enter Yes or No : NO\n",
      "are you tired?\n",
      "Enter Yes or No : No\n",
      "are you tired?\n",
      "Enter Yes or No : nO\n",
      "Congratulations !\n"
     ]
    }
   ],
   "source": [
    "for distance in range(1,51):\n",
    "    if distance < 50 and distance % 10 == 0:\n",
    "        print(\"are you tired?\")\n",
    "        reply = input(\"Enter Yes or No : \")\n",
    "        if reply.lower() == \"yes\":\n",
    "            print(\"you didn't finish the race\")\n",
    "            break\n",
    "        elif reply.lower() == \"no\":\n",
    "            continue\n",
    "        else:\n",
    "            print(\"Invalid Input\")\n",
    "    if distance == 50:\n",
    "        print(\"Congratulations !\")"
   ]
  },
  {
   "cell_type": "markdown",
   "metadata": {},
   "source": [
    "**6.Write a Python program to find those numbers which are divisible by 7 and multiple of 5, between 1500 and 2700 (both included).**"
   ]
  },
  {
   "cell_type": "code",
   "execution_count": 7,
   "metadata": {},
   "outputs": [
    {
     "name": "stdout",
     "output_type": "stream",
     "text": [
      "1505 1540 1575 1610 1645 1680 1715 1750 1785 1820 1855 1890 1925 1960 1995 2030 2065 2100 2135 2170 2205 2240 2275 2310 2345 2380 2415 2450 2485 2520 2555 2590 2625 2660 2695 "
     ]
    }
   ],
   "source": [
    "for number in range(1500,2701):\n",
    "    if number % 7 == 0 and number % 5 == 0:\n",
    "        print(number, end=\" \")"
   ]
  },
  {
   "cell_type": "markdown",
   "metadata": {},
   "source": [
    "**7.Print square of all numbers between 10 to 20 except even numbers**"
   ]
  },
  {
   "cell_type": "code",
   "execution_count": 8,
   "metadata": {},
   "outputs": [
    {
     "name": "stdout",
     "output_type": "stream",
     "text": [
      "121 169 225 289 361 "
     ]
    }
   ],
   "source": [
    "for number in range(10,21):\n",
    "    if number % 2 == 1:\n",
    "        print(number ** 2, end=\" \")"
   ]
  },
  {
   "cell_type": "markdown",
   "metadata": {},
   "source": [
    "**8.Your Marks for five Test(test1 to test5) looks like this,**\n",
    "\n",
    "marks_list = [65, 75, 2100, 95, 83]\n",
    "\n",
    "Write a program that asks you to enter marks and program should tell you in which test that marks occurred. If marks is not found then it should print that as well."
   ]
  },
  {
   "cell_type": "code",
   "execution_count": 10,
   "metadata": {},
   "outputs": [
    {
     "name": "stdout",
     "output_type": "stream",
     "text": [
      "Enter the Mark : 95\n",
      "Mark found in Test 4\n"
     ]
    }
   ],
   "source": [
    "marks_list = [65, 75, 2100, 95, 83]\n",
    "given_mark = int(input(\"Enter the Mark : \"))\n",
    "if given_mark in marks_list:\n",
    "    print(\"Mark found in Test\", marks_list.index(given_mark)+1)\n",
    "else:\n",
    "    print(\"Mark not found\")\n"
   ]
  }
 ],
 "metadata": {
  "kernelspec": {
   "display_name": "Python 3",
   "language": "python",
   "name": "python3"
  },
  "language_info": {
   "codemirror_mode": {
    "name": "ipython",
    "version": 3
   },
   "file_extension": ".py",
   "mimetype": "text/x-python",
   "name": "python",
   "nbconvert_exporter": "python",
   "pygments_lexer": "ipython3",
   "version": "3.8.5"
  }
 },
 "nbformat": 4,
 "nbformat_minor": 4
}
