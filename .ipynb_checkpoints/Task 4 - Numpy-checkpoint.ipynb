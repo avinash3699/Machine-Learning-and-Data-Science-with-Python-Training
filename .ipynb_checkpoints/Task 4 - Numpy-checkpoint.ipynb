{
 "cells": [
  {
   "cell_type": "markdown",
   "metadata": {},
   "source": [
    "## TASK 4\n",
    "\n",
    "### NAME : AVINASH M\n",
    "### REG NO. : GO_STP_8305\n",
    "### DATE : 27.05.2021"
   ]
  },
  {
   "cell_type": "markdown",
   "metadata": {},
   "source": [
    "### **Questions on Numpy**"
   ]
  },
  {
   "cell_type": "markdown",
   "metadata": {},
   "source": [
    "**1.Import the numpy package under the name np and Print the numpy version and the configuration**"
   ]
  },
  {
   "cell_type": "code",
   "execution_count": 3,
   "metadata": {},
   "outputs": [
    {
     "name": "stdout",
     "output_type": "stream",
     "text": [
      "Numpy Version 1.20.2 \n",
      "\n",
      "blas_mkl_info:\n",
      "  NOT AVAILABLE\n",
      "blis_info:\n",
      "  NOT AVAILABLE\n",
      "openblas_info:\n",
      "    library_dirs = ['D:\\\\a\\\\1\\\\s\\\\numpy\\\\build\\\\openblas_info']\n",
      "    libraries = ['openblas_info']\n",
      "    language = f77\n",
      "    define_macros = [('HAVE_CBLAS', None)]\n",
      "blas_opt_info:\n",
      "    library_dirs = ['D:\\\\a\\\\1\\\\s\\\\numpy\\\\build\\\\openblas_info']\n",
      "    libraries = ['openblas_info']\n",
      "    language = f77\n",
      "    define_macros = [('HAVE_CBLAS', None)]\n",
      "lapack_mkl_info:\n",
      "  NOT AVAILABLE\n",
      "openblas_lapack_info:\n",
      "    library_dirs = ['D:\\\\a\\\\1\\\\s\\\\numpy\\\\build\\\\openblas_lapack_info']\n",
      "    libraries = ['openblas_lapack_info']\n",
      "    language = f77\n",
      "    define_macros = [('HAVE_CBLAS', None)]\n",
      "lapack_opt_info:\n",
      "    library_dirs = ['D:\\\\a\\\\1\\\\s\\\\numpy\\\\build\\\\openblas_lapack_info']\n",
      "    libraries = ['openblas_lapack_info']\n",
      "    language = f77\n",
      "    define_macros = [('HAVE_CBLAS', None)]\n",
      "None\n"
     ]
    }
   ],
   "source": [
    "import numpy as np\n",
    "print(\"Numpy Version\", np.__version__, \"\\n\")\n",
    "print(np.show_config())"
   ]
  },
  {
   "cell_type": "markdown",
   "metadata": {},
   "source": [
    "___"
   ]
  },
  {
   "cell_type": "markdown",
   "metadata": {},
   "source": [
    "**2.Create a null vector of size 10**"
   ]
  },
  {
   "cell_type": "code",
   "execution_count": 2,
   "metadata": {},
   "outputs": [
    {
     "data": {
      "text/plain": [
       "array([0., 0., 0., 0., 0., 0., 0., 0., 0., 0.])"
      ]
     },
     "execution_count": 2,
     "metadata": {},
     "output_type": "execute_result"
    }
   ],
   "source": [
    "nullVectorOfSize10 = np.zeros(10)\n",
    "nullVectorOfSize10"
   ]
  },
  {
   "cell_type": "markdown",
   "metadata": {},
   "source": [
    "___"
   ]
  },
  {
   "cell_type": "markdown",
   "metadata": {},
   "source": [
    "**3.Create Simple 1-D array and check type and check data types in array**"
   ]
  },
  {
   "cell_type": "code",
   "execution_count": 3,
   "metadata": {},
   "outputs": [
    {
     "name": "stdout",
     "output_type": "stream",
     "text": [
      "Type : <class 'numpy.ndarray'>\n",
      "Data type : int32\n"
     ]
    }
   ],
   "source": [
    "sample1DArray = np.array([3,6,9,33,66,99])\n",
    "print(\"Type :\", type(sample1DArray))\n",
    "print(\"Data type :\", sample1DArray.dtype)"
   ]
  },
  {
   "cell_type": "markdown",
   "metadata": {},
   "source": [
    "___"
   ]
  },
  {
   "cell_type": "markdown",
   "metadata": {},
   "source": [
    "**4.How to find number of dimensions, bytes per element and bytes of memory used?**"
   ]
  },
  {
   "cell_type": "code",
   "execution_count": 4,
   "metadata": {},
   "outputs": [
    {
     "name": "stdout",
     "output_type": "stream",
     "text": [
      "Number of Dimensions :  1\n",
      "Byts per element :  4\n",
      "Byts of Memory used :  24\n"
     ]
    }
   ],
   "source": [
    "print(\"Number of Dimensions : \", sample1DArray.ndim)\n",
    "print(\"Byts per element : \", sample1DArray.itemsize)\n",
    "print(\"Byts of Memory used : \", sample1DArray.itemsize * sample1DArray.size)"
   ]
  },
  {
   "cell_type": "markdown",
   "metadata": {},
   "source": [
    "___"
   ]
  },
  {
   "cell_type": "markdown",
   "metadata": {},
   "source": [
    "**5.Create a null vector of size 10 but the fifth value is 1**"
   ]
  },
  {
   "cell_type": "code",
   "execution_count": 5,
   "metadata": {},
   "outputs": [
    {
     "data": {
      "text/plain": [
       "array([0., 0., 0., 0., 1., 0., 0., 0., 0., 0.])"
      ]
     },
     "execution_count": 5,
     "metadata": {},
     "output_type": "execute_result"
    }
   ],
   "source": [
    "nullVectorOfSize10 = np.zeros(10)\n",
    "nullVectorOfSize10[4] = 1\n",
    "nullVectorOfSize10"
   ]
  },
  {
   "cell_type": "markdown",
   "metadata": {},
   "source": [
    "___"
   ]
  },
  {
   "cell_type": "markdown",
   "metadata": {},
   "source": [
    "**6.Create a vector with values ranging from 10 to 49**"
   ]
  },
  {
   "cell_type": "code",
   "execution_count": 6,
   "metadata": {},
   "outputs": [
    {
     "data": {
      "text/plain": [
       "array([10, 11, 12, 13, 14, 15, 16, 17, 18, 19, 20, 21, 22, 23, 24, 25, 26,\n",
       "       27, 28, 29, 30, 31, 32, 33, 34, 35, 36, 37, 38, 39, 40, 41, 42, 43,\n",
       "       44, 45, 46, 47, 48, 49])"
      ]
     },
     "execution_count": 6,
     "metadata": {},
     "output_type": "execute_result"
    }
   ],
   "source": [
    "vector = np.arange(10,50)\n",
    "vector"
   ]
  },
  {
   "cell_type": "markdown",
   "metadata": {},
   "source": [
    "___"
   ]
  },
  {
   "cell_type": "markdown",
   "metadata": {},
   "source": [
    "**7.Reverse a vector (first element becomes last)**"
   ]
  },
  {
   "cell_type": "code",
   "execution_count": 7,
   "metadata": {},
   "outputs": [
    {
     "name": "stdout",
     "output_type": "stream",
     "text": [
      "Original Vector : [10 11 12 13 14 15 16 17 18 19 20 21 22 23 24 25 26 27 28 29 30 31 32 33\n",
      " 34 35 36 37 38 39 40 41 42 43 44 45 46 47 48 49]\n",
      "\n",
      "Reversed Vector :  [49 48 47 46 45 44 43 42 41 40 39 38 37 36 35 34 33 32 31 30 29 28 27 26\n",
      " 25 24 23 22 21 20 19 18 17 16 15 14 13 12 11 10]\n"
     ]
    }
   ],
   "source": [
    "print(\"Original Vector :\", vector)\n",
    "print(\"\\nReversed Vector : \", np.flip(vector))"
   ]
  },
  {
   "cell_type": "markdown",
   "metadata": {},
   "source": [
    "___"
   ]
  },
  {
   "cell_type": "markdown",
   "metadata": {},
   "source": [
    "**8.Create a 3x3 matrix with values ranging from 0 to 8**"
   ]
  },
  {
   "cell_type": "code",
   "execution_count": 8,
   "metadata": {},
   "outputs": [
    {
     "data": {
      "text/plain": [
       "array([[0, 1, 2],\n",
       "       [3, 4, 5],\n",
       "       [6, 7, 8]])"
      ]
     },
     "execution_count": 8,
     "metadata": {},
     "output_type": "execute_result"
    }
   ],
   "source": [
    "matrix3x3 = np.arange(0,9)\n",
    "matrix3x3.reshape(3,3)"
   ]
  },
  {
   "cell_type": "markdown",
   "metadata": {},
   "source": [
    "___"
   ]
  },
  {
   "cell_type": "markdown",
   "metadata": {},
   "source": [
    "**9.Find indices of non-zero elements from [1,2,0,0,4,0]**"
   ]
  },
  {
   "cell_type": "code",
   "execution_count": 9,
   "metadata": {},
   "outputs": [],
   "source": [
    "sampleVector = np.array([1, 2, 0, 0, 4, 0])"
   ]
  },
  {
   "cell_type": "markdown",
   "metadata": {},
   "source": [
    "**Method 1**"
   ]
  },
  {
   "cell_type": "code",
   "execution_count": 10,
   "metadata": {},
   "outputs": [
    {
     "data": {
      "text/plain": [
       "array([2, 3, 5], dtype=int64)"
      ]
     },
     "execution_count": 10,
     "metadata": {},
     "output_type": "execute_result"
    }
   ],
   "source": [
    "np.where(sampleVector == 0)[0]"
   ]
  },
  {
   "cell_type": "markdown",
   "metadata": {},
   "source": [
    "**Method 2**"
   ]
  },
  {
   "cell_type": "code",
   "execution_count": 11,
   "metadata": {},
   "outputs": [
    {
     "data": {
      "text/plain": [
       "array([2, 3, 5], dtype=int64)"
      ]
     },
     "execution_count": 11,
     "metadata": {},
     "output_type": "execute_result"
    }
   ],
   "source": [
    "np.nonzero(sampleVector == 0)[0]"
   ]
  },
  {
   "cell_type": "markdown",
   "metadata": {},
   "source": [
    "**Method 3**"
   ]
  },
  {
   "cell_type": "code",
   "execution_count": 12,
   "metadata": {},
   "outputs": [
    {
     "data": {
      "text/plain": [
       "array([[2],\n",
       "       [3],\n",
       "       [5]], dtype=int64)"
      ]
     },
     "execution_count": 12,
     "metadata": {},
     "output_type": "execute_result"
    }
   ],
   "source": [
    "np.argwhere(sampleVector == 0)"
   ]
  },
  {
   "cell_type": "markdown",
   "metadata": {},
   "source": [
    "___"
   ]
  },
  {
   "cell_type": "markdown",
   "metadata": {},
   "source": [
    "**10.Create a 3x3 identity matrix**"
   ]
  },
  {
   "cell_type": "code",
   "execution_count": 13,
   "metadata": {},
   "outputs": [
    {
     "data": {
      "text/plain": [
       "array([[1., 0., 0.],\n",
       "       [0., 1., 0.],\n",
       "       [0., 0., 1.]])"
      ]
     },
     "execution_count": 13,
     "metadata": {},
     "output_type": "execute_result"
    }
   ],
   "source": [
    "identityMatrix_3x3 = np.identity(3)\n",
    "identityMatrix_3x3"
   ]
  },
  {
   "cell_type": "markdown",
   "metadata": {},
   "source": [
    "___"
   ]
  },
  {
   "cell_type": "markdown",
   "metadata": {},
   "source": [
    "**11.Create a 3x3x3 array with random values**"
   ]
  },
  {
   "cell_type": "code",
   "execution_count": 14,
   "metadata": {},
   "outputs": [
    {
     "data": {
      "text/plain": [
       "array([[[0.04528285, 0.53317153, 0.06351286],\n",
       "        [0.10379581, 0.31087379, 0.71179707],\n",
       "        [0.67261319, 0.76484176, 0.51639385]],\n",
       "\n",
       "       [[0.38669515, 0.03602489, 0.34720646],\n",
       "        [0.18115792, 0.7125257 , 0.59012882],\n",
       "        [0.85351218, 0.95729295, 0.46344872]],\n",
       "\n",
       "       [[0.89562918, 0.53955336, 0.51831998],\n",
       "        [0.3938993 , 0.84972651, 0.62041027],\n",
       "        [0.41250858, 0.87197004, 0.6336442 ]]])"
      ]
     },
     "execution_count": 14,
     "metadata": {},
     "output_type": "execute_result"
    }
   ],
   "source": [
    "matrix_3x3x3 = np.random.random((3,3,3))\n",
    "matrix_3x3x3"
   ]
  },
  {
   "cell_type": "markdown",
   "metadata": {},
   "source": [
    "___"
   ]
  },
  {
   "cell_type": "markdown",
   "metadata": {},
   "source": [
    "**12.Create a 10x10 array with random values and find the minimum and maximum values**"
   ]
  },
  {
   "cell_type": "code",
   "execution_count": 15,
   "metadata": {},
   "outputs": [
    {
     "name": "stdout",
     "output_type": "stream",
     "text": [
      "Matrix : [[0.67516326 0.85974273 0.49393138 0.84034488 0.67536788 0.79067493\n",
      "  0.14866307 0.71576685 0.91072325 0.50932885]\n",
      " [0.70065382 0.32248169 0.40280339 0.67171328 0.42033444 0.14317542\n",
      "  0.6568689  0.43482048 0.38612429 0.37281905]\n",
      " [0.18829706 0.43221742 0.85958423 0.19714317 0.92180337 0.41838516\n",
      "  0.88238028 0.2121596  0.81826931 0.45256179]\n",
      " [0.57240132 0.15840196 0.85232881 0.33771808 0.41408833 0.81651506\n",
      "  0.46962206 0.94072271 0.68136003 0.5661194 ]\n",
      " [0.62513779 0.666242   0.21047145 0.64457435 0.44090225 0.40036196\n",
      "  0.53319728 0.52756799 0.53339103 0.85291411]\n",
      " [0.49191186 0.97213146 0.06581302 0.17249473 0.55081677 0.49684316\n",
      "  0.20277641 0.65157918 0.66880573 0.29775661]\n",
      " [0.59323411 0.18600515 0.32717512 0.19597127 0.11420459 0.07287333\n",
      "  0.48138231 0.02679464 0.54353756 0.48740813]\n",
      " [0.29748776 0.73219079 0.25915028 0.35391802 0.97624785 0.98346806\n",
      "  0.8198691  0.12689171 0.58096896 0.7342591 ]\n",
      " [0.23291942 0.66991458 0.64791896 0.78243072 0.95251366 0.2527778\n",
      "  0.70547253 0.73666615 0.12736168 0.68995248]\n",
      " [0.4805573  0.83751375 0.03992023 0.03506328 0.7579906  0.24985019\n",
      "  0.85232258 0.5579311  0.32052851 0.02860897]]\n",
      "Minimum Value : 0.026794639351382266\n",
      "Maximum Value : 0.9834680571083823\n"
     ]
    }
   ],
   "source": [
    "matrix_10x10 = np.random.random((10,10))\n",
    "print(\"Matrix :\", matrix_10x10)\n",
    "print(\"Minimum Value :\", matrix_10x10.min())\n",
    "print(\"Maximum Value :\", matrix_10x10.max())"
   ]
  },
  {
   "cell_type": "markdown",
   "metadata": {},
   "source": [
    "___"
   ]
  },
  {
   "cell_type": "markdown",
   "metadata": {},
   "source": [
    "**13.Create a random vector of size 30 and find the mean value**"
   ]
  },
  {
   "cell_type": "code",
   "execution_count": 16,
   "metadata": {},
   "outputs": [
    {
     "name": "stdout",
     "output_type": "stream",
     "text": [
      "Vector : [0.44012309 0.69211643 0.241118   0.76934785 0.1613518  0.19746603\n",
      " 0.39004147 0.4306883  0.74078504 0.36805105 0.77260068 0.01886143\n",
      " 0.85311096 0.85049103 0.43863319 0.1799582  0.16308069 0.28185719\n",
      " 0.32234471 0.13660119 0.13492178 0.41842098 0.05231224 0.38633835\n",
      " 0.3921061  0.36821349 0.78703971 0.4736227  0.10017355 0.24856632]\n",
      "Mean : 0.39367811784434154\n"
     ]
    }
   ],
   "source": [
    "vectorOfSize30 = np.random.random((30))\n",
    "print(\"Vector :\", vectorOfSize30)\n",
    "print(\"Mean :\", vectorOfSize30.mean())"
   ]
  },
  {
   "cell_type": "markdown",
   "metadata": {},
   "source": [
    "___"
   ]
  },
  {
   "cell_type": "markdown",
   "metadata": {},
   "source": [
    "**14.Create a 2d array with 1 on the border and 0 inside**"
   ]
  },
  {
   "cell_type": "code",
   "execution_count": 17,
   "metadata": {},
   "outputs": [
    {
     "data": {
      "text/plain": [
       "array([[1., 1., 1., 1., 1., 1., 1.],\n",
       "       [1., 0., 0., 0., 0., 0., 1.],\n",
       "       [1., 0., 0., 0., 0., 0., 1.],\n",
       "       [1., 0., 0., 0., 0., 0., 1.],\n",
       "       [1., 0., 0., 0., 0., 0., 1.],\n",
       "       [1., 0., 0., 0., 0., 0., 1.],\n",
       "       [1., 1., 1., 1., 1., 1., 1.]])"
      ]
     },
     "execution_count": 17,
     "metadata": {},
     "output_type": "execute_result"
    }
   ],
   "source": [
    "# array_2D = np.ones((6,6))\n",
    "# array_2D[1:-1,1:-1] = 0\n",
    "# array_2D\n",
    "\n",
    "array_2D = np.zeros((5,5))\n",
    "array_2D = np.pad(array_2D, pad_width = 1, mode = 'constant', constant_values = 1)\n",
    "array_2D"
   ]
  },
  {
   "cell_type": "markdown",
   "metadata": {},
   "source": [
    "___"
   ]
  },
  {
   "cell_type": "markdown",
   "metadata": {},
   "source": [
    "**15.How to add a border (filled with 0's) around an existing array?**"
   ]
  },
  {
   "cell_type": "code",
   "execution_count": 18,
   "metadata": {},
   "outputs": [
    {
     "name": "stdout",
     "output_type": "stream",
     "text": [
      "Original array:\n",
      "[[1. 1. 1.]\n",
      " [1. 1. 1.]\n",
      " [1. 1. 1.]]\n",
      "0 on the border and 1 inside in the array\n",
      "[[0. 0. 0. 0. 0.]\n",
      " [0. 1. 1. 1. 0.]\n",
      " [0. 1. 1. 1. 0.]\n",
      " [0. 1. 1. 1. 0.]\n",
      " [0. 0. 0. 0. 0.]]\n"
     ]
    }
   ],
   "source": [
    "import numpy as np\n",
    "array = np.ones((3,3))\n",
    "print(\"Original array:\")\n",
    "print(array)\n",
    "print(\"0 on the border and 1 inside in the array\")\n",
    "array = np.pad(array, pad_width=1, mode='constant', constant_values=0)\n",
    "print(array)"
   ]
  },
  {
   "cell_type": "markdown",
   "metadata": {},
   "source": [
    "**16.How to Accessing/Changing specific elements, rows, columns, etc in Numpy array?**\n",
    "\n",
    "Example -\n",
    "[[ 1 2 3 4 5 6 7] [ 8 9 10 11 12 13 14]]\n",
    "\n",
    "Get 13, get first row only, get 3rd column only, get [2, 4, 6], replace 13 by 20"
   ]
  },
  {
   "cell_type": "code",
   "execution_count": 19,
   "metadata": {},
   "outputs": [
    {
     "name": "stdout",
     "output_type": "stream",
     "text": [
      "Accessing Element 13 : 13\n",
      "First Row [1 2 3 4 5 6 7]\n",
      "Third Column [ 3 10]\n",
      "[2 4 6]\n",
      "Replaced 13 by 20\n",
      "[[ 1  2  3  4  5  6  7]\n",
      " [ 8  9 10 11 12 20 14]]\n"
     ]
    }
   ],
   "source": [
    "array = np.array([\n",
    "    [ 1, 2, 3, 4, 5, 6, 7],\n",
    "    [ 8, 9, 10, 11, 12, 13, 14]])\n",
    "print(\"Accessing Element 13 :\", array[1,5])\n",
    "print(\"First Row\", array[0])\n",
    "print(\"Third Column\", array[:,2])\n",
    "print(array[0,1:7:2])\n",
    "array[1,5] = 20\n",
    "print(\"Replaced 13 by 20\")\n",
    "print(array)"
   ]
  },
  {
   "cell_type": "markdown",
   "metadata": {},
   "source": [
    "___"
   ]
  },
  {
   "cell_type": "markdown",
   "metadata": {},
   "source": [
    "**17.How to Convert a 1D array to a 2D array with 2 rows?**"
   ]
  },
  {
   "cell_type": "markdown",
   "metadata": {},
   "source": [
    "> ***1D Array can be converted to a 2D array with 2 rows using `reshape()` method with 2 as first argument. The 1D array size should be divisible by 2 for doing so.***"
   ]
  },
  {
   "cell_type": "code",
   "execution_count": 20,
   "metadata": {},
   "outputs": [
    {
     "data": {
      "text/plain": [
       "array([[0.53404558, 0.96189168, 0.81205044, 0.60827391, 0.22937494],\n",
       "       [0.03579627, 0.6098111 , 0.80002084, 0.51536771, 0.2217982 ]])"
      ]
     },
     "execution_count": 20,
     "metadata": {},
     "output_type": "execute_result"
    }
   ],
   "source": [
    "randomArray = np.random.random(10)\n",
    "randomArray = randomArray.reshape(2,5)\n",
    "randomArray"
   ]
  },
  {
   "cell_type": "markdown",
   "metadata": {},
   "source": [
    "___"
   ]
  },
  {
   "cell_type": "markdown",
   "metadata": {},
   "source": [
    "**18.Create the following pattern without hardcoding. Use only numpy functions and the below input array a.**\n",
    "\n",
    "Input:\n",
    "\n",
    "> a = np.array([1,2,3])\n",
    "\n",
    "Desired Output:\n",
    "\n",
    "> array([1, 1, 1, 2, 2, 2, 3, 3, 3, 1, 2, 3, 1, 2, 3, 1, 2, 3])"
   ]
  },
  {
   "cell_type": "code",
   "execution_count": 21,
   "metadata": {},
   "outputs": [
    {
     "data": {
      "text/plain": [
       "array([1, 1, 1, 2, 2, 2, 3, 3, 3, 1, 2, 3, 1, 2, 3, 1, 2, 3])"
      ]
     },
     "execution_count": 21,
     "metadata": {},
     "output_type": "execute_result"
    }
   ],
   "source": [
    "a = np.array([1,2,3])\n",
    "a = np.append(np.repeat(a,3), np.tile(a,3))\n",
    "a"
   ]
  },
  {
   "cell_type": "markdown",
   "metadata": {},
   "source": [
    "___"
   ]
  },
  {
   "cell_type": "markdown",
   "metadata": {},
   "source": [
    "**19.Write a program to show how Numpy taking less memory compared to Python List?**"
   ]
  },
  {
   "cell_type": "code",
   "execution_count": 22,
   "metadata": {},
   "outputs": [
    {
     "name": "stdout",
     "output_type": "stream",
     "text": [
      "Memory taken by List Object : 104\n",
      "Memory taken by Numpy Object : 24\n",
      "Hence, Numpy takes less memory compared to Python List\n"
     ]
    }
   ],
   "source": [
    "import sys\n",
    "\n",
    "listObject = [3, 6, 9, 33, 66, 99]\n",
    "numpyObject = np.array([[3, 6, 9, 33, 66, 99]])\n",
    "\n",
    "print(\"Memory taken by List Object :\", sys.getsizeof(listObject))\n",
    "print(\"Memory taken by Numpy Object :\", numpyObject.size * numpyObject.itemsize)\n",
    "print(\"Hence, Numpy takes less memory compared to Python List\")"
   ]
  },
  {
   "cell_type": "markdown",
   "metadata": {},
   "source": [
    "___"
   ]
  },
  {
   "cell_type": "markdown",
   "metadata": {},
   "source": [
    "**20.Write a program to show how Numpy taking less time compared to Python List?**"
   ]
  },
  {
   "cell_type": "code",
   "execution_count": 23,
   "metadata": {},
   "outputs": [
    {
     "name": "stdout",
     "output_type": "stream",
     "text": [
      "Time taken to add two Lists : 0.5305864810943604\n",
      "Time taken to add two Numpy Arrays : 0.00549006462097168\n",
      "Hence, Numpy takes less time compared to Python List\n"
     ]
    }
   ],
   "source": [
    "import time\n",
    "\n",
    "maxSize = 1000000\n",
    "\n",
    "listObject1 = range(maxSize)\n",
    "listObject2 = range(maxSize)\n",
    "\n",
    "numpyObject1 = np.arange(maxSize)\n",
    "numpyObject2 = np.arange(maxSize)\n",
    "\n",
    "startTime = time.time()\n",
    "sumOfTwoLists = [listObject1[index] * listObject2[index] for index in range(maxSize)]\n",
    "print(\"Time taken to add two Lists :\", time.time() - startTime)\n",
    "\n",
    "startTime = time.time()\n",
    "sumOfTwoNumpyArrays = numpyObject1 * numpyObject2\n",
    "print(\"Time taken to add two Numpy Arrays :\", time.time() - startTime)\n",
    "\n",
    "print(\"Hence, Numpy takes less time compared to Python List\")"
   ]
  },
  {
   "cell_type": "markdown",
   "metadata": {},
   "source": [
    "___"
   ]
  }
 ],
 "metadata": {
  "kernelspec": {
   "display_name": "Python 3",
   "language": "python",
   "name": "python3"
  },
  "language_info": {
   "codemirror_mode": {
    "name": "ipython",
    "version": 3
   },
   "file_extension": ".py",
   "mimetype": "text/x-python",
   "name": "python",
   "nbconvert_exporter": "python",
   "pygments_lexer": "ipython3",
   "version": "3.8.5"
  }
 },
 "nbformat": 4,
 "nbformat_minor": 4
}
