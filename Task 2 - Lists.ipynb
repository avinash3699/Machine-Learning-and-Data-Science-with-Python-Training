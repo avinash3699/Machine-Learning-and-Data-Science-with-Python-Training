{
 "cells": [
  {
   "cell_type": "markdown",
   "metadata": {},
   "source": [
    "# Task 2"
   ]
  },
  {
   "cell_type": "markdown",
   "metadata": {},
   "source": [
    "### Name : Avinash M\n",
    "### Reg No : GO_STP_8305\n",
    "### Date : 24/05/2021"
   ]
  },
  {
   "cell_type": "markdown",
   "metadata": {},
   "source": [
    "### 1) Is a list mutable? \n",
    "> ***Ans : Yes, List is mutable***"
   ]
  },
  {
   "cell_type": "code",
   "execution_count": 1,
   "metadata": {},
   "outputs": [
    {
     "name": "stdout",
     "output_type": "stream",
     "text": [
      "Original List : ['Avinash', 36.9, 9, 'Data Science', 'and', 'Machine Learning']\n",
      "List after modifying elements : ['Avinash', 'is', 'learning', 'Data Science', 'and', 'Machine Learning']\n",
      "So, List is mutable\n"
     ]
    }
   ],
   "source": [
    "myList = [\"Avinash\", 36.9, 9, \"Data Science\", \"and\", \"Machine Learning\"]\n",
    "print(\"Original List : %s\" % myList)\n",
    "myList[1] = \"is\"\n",
    "myList[2] = \"learning\"\n",
    "print(\"List after modifying elements : %s\" % myList)\n",
    "print(\"So, List is mutable\")"
   ]
  },
  {
   "cell_type": "markdown",
   "metadata": {},
   "source": [
    "___"
   ]
  },
  {
   "cell_type": "markdown",
   "metadata": {},
   "source": [
    "### 2) Does a list need to be homogeneous?\n",
    "> ***Ans : No, A list doesn't need to be Homogeneous. Lists can also be Heterogeneous in Python.***"
   ]
  },
  {
   "cell_type": "code",
   "execution_count": 2,
   "metadata": {},
   "outputs": [
    {
     "name": "stdout",
     "output_type": "stream",
     "text": [
      "Hurray!. There are no errors\n"
     ]
    }
   ],
   "source": [
    "homogeneousList = [3, 6, 9, 33, 66, 99]\n",
    "heterogeneousList = [\"int\", 9, \"float\", 36.9, \"string\", \"Avinash\"]\n",
    "\n",
    "print(\"Hurray!. There are no errors\")"
   ]
  },
  {
   "cell_type": "markdown",
   "metadata": {},
   "source": [
    "___"
   ]
  },
  {
   "cell_type": "markdown",
   "metadata": {},
   "source": [
    "### 3) What is the difference between a list and a tuple.\n",
    "> **Ans :** \n",
    "\n",
    "> |              List            |          Tuple          |\n",
    "|:------------------------------|:-------------------------|\n",
    "|Lists are surrounded by square brackets [] | Tuples are surrounded by parenthesis ()|\n",
    "|Lists are mutable             |Tuples are immutable       |\n",
    "|Lists consume more memory     |Tuples consume less memory|\n",
    "|numList = [3, 6, 9] | numTuple = (3, 6, 9) |"
   ]
  },
  {
   "cell_type": "markdown",
   "metadata": {},
   "source": [
    "___"
   ]
  },
  {
   "cell_type": "markdown",
   "metadata": {},
   "source": [
    "### 4) How to find the number of elements in the list?\n",
    "> ***Ans : The `len()` function returns the number of elements in a list.***"
   ]
  },
  {
   "cell_type": "code",
   "execution_count": 3,
   "metadata": {},
   "outputs": [
    {
     "name": "stdout",
     "output_type": "stream",
     "text": [
      "Total Number of items : 6\n"
     ]
    }
   ],
   "source": [
    "itemsList = [\"A\", \"B\", \"C\", \"D\", \"E\", \"F\"]\n",
    "print(\"Total Number of items : %d\" % len(itemsList))"
   ]
  },
  {
   "cell_type": "markdown",
   "metadata": {},
   "source": [
    "___"
   ]
  },
  {
   "cell_type": "markdown",
   "metadata": {},
   "source": [
    "### 5) How to check whether the list is empty or not?"
   ]
  },
  {
   "cell_type": "code",
   "execution_count": 4,
   "metadata": {},
   "outputs": [
    {
     "name": "stdout",
     "output_type": "stream",
     "text": [
      "The list is empty.\n"
     ]
    }
   ],
   "source": [
    "# METHOD 1 : using len() function\n",
    "myList = []\n",
    "if len(myList) == 0:\n",
    "    print(\"The list is empty.\")\n",
    "else:\n",
    "    print(\"The list is not empty.\")"
   ]
  },
  {
   "cell_type": "code",
   "execution_count": 5,
   "metadata": {},
   "outputs": [
    {
     "name": "stdout",
     "output_type": "stream",
     "text": [
      "The list is empty.\n"
     ]
    }
   ],
   "source": [
    "# METHOD 2 : by just using the list name as condition for if.\n",
    "if not myList:\n",
    "    print(\"The list is empty.\")\n",
    "else:\n",
    "    print(\"The list is not empty.\")"
   ]
  },
  {
   "cell_type": "markdown",
   "metadata": {},
   "source": [
    "___"
   ]
  },
  {
   "cell_type": "markdown",
   "metadata": {},
   "source": [
    "### 6) How to find the first and last element of the list?"
   ]
  },
  {
   "cell_type": "markdown",
   "metadata": {},
   "source": [
    "> ***Ans : The first and last element of the list can be found using the indices. First element is always present at `0`th index and Last element is always present at the length of list minus 1. Since Python supports negative indexing, last element can also be found by using `-1` as the index value.*** "
   ]
  },
  {
   "cell_type": "code",
   "execution_count": 6,
   "metadata": {},
   "outputs": [
    {
     "name": "stdout",
     "output_type": "stream",
     "text": [
      "The First Element is 3\n",
      "The Last Element using Normal Indexing is 99 and Negative Indexing is 99\n"
     ]
    }
   ],
   "source": [
    "numList = [3, 6, 9, 33, 66, 99]\n",
    "firstElement = numList[0]\n",
    "lastElementMethod1 = numList[len(numList) - 1]\n",
    "lastElementMethod2 = numList[-1]\n",
    "print(\"The First Element is %d\" % firstElement)\n",
    "print(\"The Last Element using Normal Indexing is %d and Negative Indexing is %d\"\n",
    "      % (lastElementMethod1,lastElementMethod2))"
   ]
  },
  {
   "cell_type": "markdown",
   "metadata": {},
   "source": [
    "___"
   ]
  },
  {
   "cell_type": "markdown",
   "metadata": {},
   "source": [
    "### 7) How to find the largest and lowest value in the list?\n",
    "> ***Ans : The largest element can be found using `max()` function and lowest element can be found using `min()` function***"
   ]
  },
  {
   "cell_type": "code",
   "execution_count": 7,
   "metadata": {},
   "outputs": [
    {
     "name": "stdout",
     "output_type": "stream",
     "text": [
      "Largest Element : 999\n",
      "Lowest Element : 3\n"
     ]
    }
   ],
   "source": [
    "numList = [3, 999, 69, 93, 9, 66]\n",
    "largestValue = max(numList)\n",
    "lowestValue = min(numList)\n",
    "print(\"Largest Element : %d\\nLowest Element : %d\" % (largestValue, lowestValue))"
   ]
  },
  {
   "cell_type": "markdown",
   "metadata": {},
   "source": [
    "___"
   ]
  },
  {
   "cell_type": "markdown",
   "metadata": {},
   "source": [
    "### 8) How to access elements of the list?\n",
    "> ***Ans : Elements of the list can be accessed using square brackets for slicing along with the index or indices to obtain value available at that index.***"
   ]
  },
  {
   "cell_type": "code",
   "execution_count": 8,
   "metadata": {},
   "outputs": [
    {
     "name": "stdout",
     "output_type": "stream",
     "text": [
      "First Element : 3\n",
      "First Five Elements : [3, 6, 9, 33, 66]\n",
      "Last Five Elements : [66, 99, 333, 666, 999]\n"
     ]
    }
   ],
   "source": [
    "numList = [3, 6, 9, 33, 66, 99, 333, 666, 999]\n",
    "firstElement = numList[0]\n",
    "firstFiveElements = numList[0:5]\n",
    "lastFiveElements = numList[-5:]\n",
    "print(\"First Element : %d\" % firstElement)\n",
    "print(\"First Five Elements : %s\" % firstFiveElements)\n",
    "print(\"Last Five Elements : %s\" % lastFiveElements)"
   ]
  },
  {
   "cell_type": "markdown",
   "metadata": {},
   "source": [
    "___"
   ]
  },
  {
   "cell_type": "markdown",
   "metadata": {},
   "source": [
    "### 9) Remove elements at a specific index\n",
    "> ***Ans : To remove an item at a specified index or position from a List, `pop()` method of List class with index provided as argument can be used.***"
   ]
  },
  {
   "cell_type": "code",
   "execution_count": 9,
   "metadata": {},
   "outputs": [
    {
     "name": "stdout",
     "output_type": "stream",
     "text": [
      "List after removing : ['Avinash', 36.9, 9, 'Machine Learning']\n"
     ]
    }
   ],
   "source": [
    "myList = [\"Avinash\", 36.9, 9, \"Python\", \"Machine Learning\"]\n",
    "myList.pop(3)\n",
    "print(\"List after removing : %s\" % myList)"
   ]
  },
  {
   "cell_type": "markdown",
   "metadata": {},
   "source": [
    "___"
   ]
  },
  {
   "cell_type": "markdown",
   "metadata": {},
   "source": [
    "### 10) Remove elements in a list between 2 indices\n",
    "\n",
    "> ***Ans : To remove elements in a list between 2 indices can be done using `del` keyword.*** "
   ]
  },
  {
   "cell_type": "code",
   "execution_count": 10,
   "metadata": {},
   "outputs": [
    {
     "name": "stdout",
     "output_type": "stream",
     "text": [
      "List after removing elements between two indices : ['Avinash', 'Python', 'Machine Learning']\n"
     ]
    }
   ],
   "source": [
    "myList = [\"Avinash\", 36.9, 9, \"Python\", \"Machine Learning\"]\n",
    "del myList[1:3]\n",
    "print(\"List after removing elements between two indices : %s\" % myList)"
   ]
  },
  {
   "cell_type": "markdown",
   "metadata": {},
   "source": [
    "___"
   ]
  },
  {
   "cell_type": "markdown",
   "metadata": {},
   "source": [
    "### 11) Return every 2nd element in a list between 2 indices"
   ]
  },
  {
   "cell_type": "code",
   "execution_count": 11,
   "metadata": {},
   "outputs": [
    {
     "name": "stdout",
     "output_type": "stream",
     "text": [
      "Required Output : [6, 33, 99]\n"
     ]
    }
   ],
   "source": [
    "numList = [3, 6, 9, 33, 66, 99, 333, 666, 999]\n",
    "print(\"Required Output : %s\" % numList[1:6:2])"
   ]
  },
  {
   "cell_type": "markdown",
   "metadata": {},
   "source": [
    "___"
   ]
  },
  {
   "cell_type": "markdown",
   "metadata": {},
   "source": [
    "### 12) Get the first element from each nested list in a list"
   ]
  },
  {
   "cell_type": "code",
   "execution_count": 12,
   "metadata": {},
   "outputs": [
    {
     "name": "stdout",
     "output_type": "stream",
     "text": [
      "3 6 9 "
     ]
    }
   ],
   "source": [
    "nested_list = [ [3, 33, 333], [6, 66, 666], [9, 99, 999] ]\n",
    "for lst in nested_list:\n",
    "    print(lst[0],end=\" \")"
   ]
  },
  {
   "cell_type": "markdown",
   "metadata": {},
   "source": [
    "___"
   ]
  },
  {
   "cell_type": "markdown",
   "metadata": {},
   "source": [
    "### 13) How to modify elements of the list?\n",
    "\n",
    "> ***Ans : The Assignment `=` operator can be used to modify the elements of a list by mentioning the element to be modified using index.***"
   ]
  },
  {
   "cell_type": "code",
   "execution_count": 13,
   "metadata": {},
   "outputs": [
    {
     "name": "stdout",
     "output_type": "stream",
     "text": [
      "List after modifying elements : ['Avinash', 'is', 'learning', 'Data Science', 'and', 'Machine Learning']\n"
     ]
    }
   ],
   "source": [
    "myList = [\"Avinash\", 36.9, 9, \"Data Science\", \"and\", \"Machine Learning\"]\n",
    "myList[1] = \"is\"\n",
    "myList[2] = \"learning\"\n",
    "print(\"List after modifying elements : %s\" % myList)"
   ]
  },
  {
   "cell_type": "markdown",
   "metadata": {},
   "source": [
    "___"
   ]
  },
  {
   "cell_type": "markdown",
   "metadata": {},
   "source": [
    "### 14) How to concatenate two lists?\n",
    "> ***Ans : Two lists can be concatenated using the `+` operator.***"
   ]
  },
  {
   "cell_type": "code",
   "execution_count": 14,
   "metadata": {},
   "outputs": [
    {
     "name": "stdout",
     "output_type": "stream",
     "text": [
      "Concatenated List : [1, 2, 3, 4, 5, 6, 7, 8, 9, 10]\n"
     ]
    }
   ],
   "source": [
    "list1 = [1, 2, 3, 4, 5]\n",
    "list2 = [6, 7, 8, 9, 10]\n",
    "concatenatedList = list1 + list2\n",
    "print(\"Concatenated List : %s\" % concatenatedList)"
   ]
  },
  {
   "cell_type": "markdown",
   "metadata": {},
   "source": [
    "___"
   ]
  },
  {
   "cell_type": "markdown",
   "metadata": {},
   "source": [
    "### 15) How to add two lists element-wise in python?"
   ]
  },
  {
   "cell_type": "code",
   "execution_count": 15,
   "metadata": {},
   "outputs": [
    {
     "name": "stdout",
     "output_type": "stream",
     "text": [
      "List 1 : [1, 2, 3, 4, 5]\n",
      "List 2 : [6, 7, 8, 9, 10]\n",
      "Added List : [7, 9, 11, 13, 15]\n"
     ]
    }
   ],
   "source": [
    "from operator import add \n",
    "list1 = [1, 2, 3, 4, 5]\n",
    "list2 = [6, 7, 8, 9, 10]\n",
    "requiredList = list(map(add, list1, list2))\n",
    "print(\"List 1 : %s\" % list1)\n",
    "print(\"List 2 : %s\" % list2)\n",
    "print(\"Added List : %s\" % requiredList)"
   ]
  },
  {
   "cell_type": "markdown",
   "metadata": {},
   "source": [
    "___"
   ]
  },
  {
   "cell_type": "markdown",
   "metadata": {},
   "source": [
    "### 16) Difference between del and clear?\n",
    "> ***Ans : `clear` is used to delete only the contents of a list whereas `del` deletes the list from the memory itself resulting in a error if we try to access that list later.***"
   ]
  },
  {
   "cell_type": "code",
   "execution_count": 16,
   "metadata": {},
   "outputs": [
    {
     "name": "stdout",
     "output_type": "stream",
     "text": [
      "[]\n"
     ]
    }
   ],
   "source": [
    "numList = [1, 2, 3, 4, 5]\n",
    "numList.clear()\n",
    "print(numList)"
   ]
  },
  {
   "cell_type": "code",
   "execution_count": 17,
   "metadata": {},
   "outputs": [
    {
     "ename": "NameError",
     "evalue": "name 'numList' is not defined",
     "output_type": "error",
     "traceback": [
      "\u001b[1;31m---------------------------------------------------------------------------\u001b[0m",
      "\u001b[1;31mNameError\u001b[0m                                 Traceback (most recent call last)",
      "\u001b[1;32m<ipython-input-17-7d4ab4e0b88b>\u001b[0m in \u001b[0;36m<module>\u001b[1;34m\u001b[0m\n\u001b[0;32m      1\u001b[0m \u001b[0mnumList\u001b[0m \u001b[1;33m=\u001b[0m \u001b[1;33m[\u001b[0m\u001b[1;36m1\u001b[0m\u001b[1;33m,\u001b[0m \u001b[1;36m2\u001b[0m\u001b[1;33m,\u001b[0m \u001b[1;36m3\u001b[0m\u001b[1;33m,\u001b[0m \u001b[1;36m4\u001b[0m\u001b[1;33m,\u001b[0m \u001b[1;36m5\u001b[0m\u001b[1;33m]\u001b[0m\u001b[1;33m\u001b[0m\u001b[1;33m\u001b[0m\u001b[0m\n\u001b[0;32m      2\u001b[0m \u001b[1;32mdel\u001b[0m \u001b[0mnumList\u001b[0m\u001b[1;33m\u001b[0m\u001b[1;33m\u001b[0m\u001b[0m\n\u001b[1;32m----> 3\u001b[1;33m \u001b[0mprint\u001b[0m\u001b[1;33m(\u001b[0m\u001b[0mnumList\u001b[0m\u001b[1;33m)\u001b[0m\u001b[1;33m\u001b[0m\u001b[1;33m\u001b[0m\u001b[0m\n\u001b[0m",
      "\u001b[1;31mNameError\u001b[0m: name 'numList' is not defined"
     ]
    }
   ],
   "source": [
    "numList = [1, 2, 3, 4, 5]\n",
    "del numList\n",
    "print(numList)"
   ]
  },
  {
   "cell_type": "markdown",
   "metadata": {},
   "source": [
    "___"
   ]
  },
  {
   "cell_type": "markdown",
   "metadata": {},
   "source": [
    "### 17 ) Difference between remove and pop?\n",
    "> ***Ans : `remove()` requires the element of the list to be removed as an argument whereas `pop()` requires the index of the element to be removed as the argument. Also `remove()` won't return anything but `pop()` returns the deleted element.***"
   ]
  },
  {
   "cell_type": "code",
   "execution_count": 19,
   "metadata": {},
   "outputs": [
    {
     "name": "stdout",
     "output_type": "stream",
     "text": [
      "List after deleting element 4 : [1, 2, 3, 5]\n"
     ]
    }
   ],
   "source": [
    "numList = [1, 2, 3, 4, 5]\n",
    "numList.remove(4)\n",
    "print(\"List after deleting element 4 : %s\" % numList)"
   ]
  },
  {
   "cell_type": "code",
   "execution_count": 20,
   "metadata": {},
   "outputs": [
    {
     "name": "stdout",
     "output_type": "stream",
     "text": [
      "List after deleting element 4 : [1, 2, 3, 5]\n",
      "Deleted Element : 4\n"
     ]
    }
   ],
   "source": [
    "# to remove the same element '4' using pop(), we have to mention the index of '4' i.e 3\n",
    "numList = [1, 2, 3, 4, 5]\n",
    "deletedElement = numList.pop(3)\n",
    "print(\"List after deleting element 4 : %s\" % numList)\n",
    "print(\"Deleted Element : %d\" % deletedElement)"
   ]
  },
  {
   "cell_type": "markdown",
   "metadata": {},
   "source": [
    "___"
   ]
  },
  {
   "cell_type": "markdown",
   "metadata": {},
   "source": [
    "### 18) Difference between append and extend?\n",
    "> ***Ans : `append()` is used to insert a single element to the list whereas `extend()` is used to insert multiple elements in a single line. The argument of the `extend()` function should be a list.***"
   ]
  },
  {
   "cell_type": "code",
   "execution_count": 21,
   "metadata": {},
   "outputs": [
    {
     "name": "stdout",
     "output_type": "stream",
     "text": [
      "List after appending : [1, 2, 3, 4, 5, 6]\n"
     ]
    }
   ],
   "source": [
    "numList = [1, 2, 3, 4, 5]\n",
    "numList.append(6)\n",
    "print(\"List after appending : %s\" % numList)"
   ]
  },
  {
   "cell_type": "code",
   "execution_count": 22,
   "metadata": {},
   "outputs": [
    {
     "name": "stdout",
     "output_type": "stream",
     "text": [
      "List after extend function : [1, 2, 3, 4, 5, 6, 7, 8, 9, 10]\n"
     ]
    }
   ],
   "source": [
    "numList = [1, 2, 3, 4, 5]\n",
    "numList.extend([6, 7, 8, 9, 10])\n",
    "print(\"List after extend function : %s\" % numList)"
   ]
  },
  {
   "cell_type": "markdown",
   "metadata": {},
   "source": [
    "___"
   ]
  },
  {
   "cell_type": "markdown",
   "metadata": {},
   "source": [
    "### 19) Difference between Indexing and Slicing?\n",
    "> ***Ans : 'Indexing' is used to access a single element whereas 'Slicing' is used to access a range of elements.***"
   ]
  },
  {
   "cell_type": "code",
   "execution_count": 23,
   "metadata": {},
   "outputs": [
    {
     "data": {
      "text/plain": [
       "[1, 2, 3, 4, 5]"
      ]
     },
     "execution_count": 23,
     "metadata": {},
     "output_type": "execute_result"
    }
   ],
   "source": [
    "numList = [1, 2, 3, 4, 5]\n",
    "numList"
   ]
  },
  {
   "cell_type": "code",
   "execution_count": 24,
   "metadata": {},
   "outputs": [
    {
     "data": {
      "text/plain": [
       "1"
      ]
     },
     "execution_count": 24,
     "metadata": {},
     "output_type": "execute_result"
    }
   ],
   "source": [
    "#indexing - accessing single element\n",
    "numList[0]"
   ]
  },
  {
   "cell_type": "code",
   "execution_count": 25,
   "metadata": {},
   "outputs": [
    {
     "data": {
      "text/plain": [
       "[2, 3, 4]"
      ]
     },
     "execution_count": 25,
     "metadata": {},
     "output_type": "execute_result"
    }
   ],
   "source": [
    "#slicing - accessing range of elements\n",
    "numList[1:4]"
   ]
  },
  {
   "cell_type": "markdown",
   "metadata": {},
   "source": [
    "___"
   ]
  },
  {
   "cell_type": "markdown",
   "metadata": {},
   "source": [
    "### 20) Difference between sort and sorted?"
   ]
  },
  {
   "cell_type": "code",
   "execution_count": 26,
   "metadata": {},
   "outputs": [
    {
     "name": "stdout",
     "output_type": "stream",
     "text": [
      "Before using sorted() : [1, 3, 5, 2, 4]\n",
      "After using sorted() : [1, 2, 3, 4, 5]\n"
     ]
    }
   ],
   "source": [
    "# sorted() doesn't sort inplace \n",
    "numList = [1, 3, 5, 2, 4]\n",
    "print(\"Before using sorted() : %s\" % numList)\n",
    "numList = sorted(numList)\n",
    "print(\"After using sorted() : %s\" % numList)"
   ]
  },
  {
   "cell_type": "code",
   "execution_count": 27,
   "metadata": {},
   "outputs": [
    {
     "name": "stdout",
     "output_type": "stream",
     "text": [
      "Before using sort() : [1, 3, 5, 2, 4]\n",
      "After using sort() : [1, 2, 3, 4, 5]\n"
     ]
    }
   ],
   "source": [
    "# sort() does sort inplace \n",
    "numList = [1, 3, 5, 2, 4]\n",
    "print(\"Before using sort() : %s\" % numList)\n",
    "numList.sort()\n",
    "print(\"After using sort() : %s\" % numList)"
   ]
  },
  {
   "cell_type": "markdown",
   "metadata": {},
   "source": [
    "### 21) Difference between reverse and reversed?"
   ]
  },
  {
   "cell_type": "code",
   "execution_count": 28,
   "metadata": {},
   "outputs": [
    {
     "name": "stdout",
     "output_type": "stream",
     "text": [
      "Before using reversed() : [1, 2, 3, 4, 5]\n",
      "After using reversed() : [5, 4, 3, 2, 1]\n"
     ]
    }
   ],
   "source": [
    "# The reversed() function in Python takes a list as argument.\n",
    "# The reversed() function returns the reversed list. So it has to assigned to a variable\n",
    "numList = [1, 2, 3, 4, 5]\n",
    "print(\"Before using reversed() : %s\" % numList)\n",
    "numList = list(reversed(numList))\n",
    "print(\"After using reversed() : %s\" % numList)"
   ]
  },
  {
   "cell_type": "code",
   "execution_count": 29,
   "metadata": {},
   "outputs": [
    {
     "name": "stdout",
     "output_type": "stream",
     "text": [
      "Before using reverse() : [1, 2, 3, 4, 5]\n",
      "After using reverse() : [5, 4, 3, 2, 1]\n"
     ]
    }
   ],
   "source": [
    "# The reverse() method in Python doesn’t take any argument.\n",
    "# The reverse() method does not return any value in python but reverse the given object from the list.\n",
    "numList = [1, 2, 3, 4, 5]\n",
    "print(\"Before using reverse() : %s\" % numList)\n",
    "numList.reverse()\n",
    "print(\"After using reverse() : %s\" % numList)"
   ]
  },
  {
   "cell_type": "markdown",
   "metadata": {},
   "source": [
    "___"
   ]
  },
  {
   "cell_type": "markdown",
   "metadata": {},
   "source": [
    "### 22) Difference between copy and deepcopy?"
   ]
  },
  {
   "cell_type": "code",
   "execution_count": 30,
   "metadata": {},
   "outputs": [
    {
     "name": "stdout",
     "output_type": "stream",
     "text": [
      "myList:  [1, 2, 3, 4]\n",
      "newList:  [1, 2, 3, 4]\n",
      "Both the lists have same id!\n"
     ]
    }
   ],
   "source": [
    "myList = [1, 2, 3, 4]\n",
    "print('myList: ', myList)\n",
    "\n",
    "newList = myList\n",
    "print('newList: ', newList)\n",
    "\n",
    "if id(myList) == id(newList):\n",
    "    print('Both the lists have same id!')\n",
    "else:\n",
    "    print('Both the lists have different id!')"
   ]
  },
  {
   "cell_type": "code",
   "execution_count": 31,
   "metadata": {},
   "outputs": [
    {
     "name": "stdout",
     "output_type": "stream",
     "text": [
      "Modifying content of (newList)\n",
      "myList content after modifying elements:  [1, 'test', 3, 4]\n",
      "newList content after modifying elements:  [1, 'test', 3, 4]\n"
     ]
    }
   ],
   "source": [
    "print('Modifying content of (newList)')\n",
    "newList[1] = 'test'\n",
    "print('myList content after modifying elements: ', myList)\n",
    "print('newList content after modifying elements: ', newList)"
   ]
  },
  {
   "cell_type": "code",
   "execution_count": 32,
   "metadata": {},
   "outputs": [
    {
     "name": "stdout",
     "output_type": "stream",
     "text": [
      "myList:  [1, 2, 3, 4]\n",
      "newList:  [1, 2, 3, 4]\n",
      "Both the lists have different id!\n"
     ]
    }
   ],
   "source": [
    "import copy\n",
    "\n",
    "myList = [1, 2, 3, 4]\n",
    "print('myList: ', myList)\n",
    "\n",
    "newList = copy.copy(myList)\n",
    "print('newList: ', newList)\n",
    "\n",
    "if id(myList) == id(newList):\n",
    "    print('Both the lists have same id!')\n",
    "else:\n",
    "    print('Both the lists have different id!')"
   ]
  },
  {
   "cell_type": "code",
   "execution_count": 33,
   "metadata": {},
   "outputs": [
    {
     "name": "stdout",
     "output_type": "stream",
     "text": [
      "Modifying content of (newList)\n",
      "myList content after modifying elements:  [1, 2, 3, 4]\n",
      "newList content after modifying elements:  [1, 'test', 3, 4]\n"
     ]
    }
   ],
   "source": [
    "print('Modifying content of (newList)')\n",
    "newList[1] = 'test'\n",
    "print('myList content after modifying elements: ', myList)\n",
    "print('newList content after modifying elements: ', newList)"
   ]
  },
  {
   "cell_type": "code",
   "execution_count": 34,
   "metadata": {},
   "outputs": [
    {
     "name": "stdout",
     "output_type": "stream",
     "text": [
      "myList:  [1, 2, 3, 4]\n",
      "newList:  [1, 2, 3, 4]\n",
      "Both the lists have different id!\n"
     ]
    }
   ],
   "source": [
    "myList = [1, 2, 3, 4]\n",
    "print('myList: ', myList)\n",
    "\n",
    "newList = copy.deepcopy(myList)\n",
    "print('newList: ', newList)\n",
    "\n",
    "if id(myList) == id(newList):\n",
    "    print('Both the lists have same id!')\n",
    "else:\n",
    "    print('Both the lists have different id!')"
   ]
  },
  {
   "cell_type": "code",
   "execution_count": 35,
   "metadata": {},
   "outputs": [
    {
     "name": "stdout",
     "output_type": "stream",
     "text": [
      "Modifying content of (newList)\n",
      "myList content after modifying elements:  [1, 2, 3, 4]\n",
      "newList content after modifying elements:  [1, 'test', 3, 4]\n"
     ]
    }
   ],
   "source": [
    "print('Modifying content of (newList)')\n",
    "newList[1] = 'test'\n",
    "print('myList content after modifying elements: ', myList)\n",
    "print('newList content after modifying elements: ', newList)"
   ]
  },
  {
   "cell_type": "markdown",
   "metadata": {},
   "source": [
    "___"
   ]
  },
  {
   "cell_type": "markdown",
   "metadata": {},
   "source": [
    "### 23) How to remove duplicate elements in the list?\n",
    "> ***Ans : Duplicate items can be removed in the list by using `set()` function.***"
   ]
  },
  {
   "cell_type": "code",
   "execution_count": 36,
   "metadata": {},
   "outputs": [
    {
     "name": "stdout",
     "output_type": "stream",
     "text": [
      "Original List [10, 10, 20, 20, 20, 30, 30, 20, 10, 15]\n",
      "List after removing duplicate elements [10, 20, 30, 15]\n"
     ]
    }
   ],
   "source": [
    "myList = [10,10,20,20,20,30,30,20,10,15]\n",
    "print(\"Original List\", myList)\n",
    "uniqueMyList = list(set(myList))\n",
    "print(\"List after removing duplicate elements\", uniqueMyList)"
   ]
  },
  {
   "cell_type": "markdown",
   "metadata": {},
   "source": [
    "___"
   ]
  },
  {
   "cell_type": "markdown",
   "metadata": {},
   "source": [
    "### 24) How to find an index of an element in the python list?\n",
    "> ***Ans : `index()` function is used to find an index of an element in the python list***"
   ]
  },
  {
   "cell_type": "code",
   "execution_count": 37,
   "metadata": {},
   "outputs": [
    {
     "data": {
      "text/plain": [
       "[10, 10, 20, 20, 20, 30, 30, 20, 10, 15]"
      ]
     },
     "execution_count": 37,
     "metadata": {},
     "output_type": "execute_result"
    }
   ],
   "source": [
    "myList"
   ]
  },
  {
   "cell_type": "code",
   "execution_count": 38,
   "metadata": {},
   "outputs": [
    {
     "data": {
      "text/plain": [
       "9"
      ]
     },
     "execution_count": 38,
     "metadata": {},
     "output_type": "execute_result"
    }
   ],
   "source": [
    "myList.index(15)"
   ]
  },
  {
   "cell_type": "markdown",
   "metadata": {},
   "source": [
    "___"
   ]
  },
  {
   "cell_type": "markdown",
   "metadata": {},
   "source": [
    "### 25) How to find the occurrences of an element in the python list?\n",
    "> ***Ans : `count()` function can be used to find the occurrences of an element in the python list.***"
   ]
  },
  {
   "cell_type": "code",
   "execution_count": 39,
   "metadata": {},
   "outputs": [
    {
     "name": "stdout",
     "output_type": "stream",
     "text": [
      "Original List : [10, 10, 20, 20, 20, 30, 30, 20, 10, 15]\n",
      "No occurrences of 10 in List : 3\n"
     ]
    }
   ],
   "source": [
    "myList = [10,10,20,20,20,30,30,20,10,15]\n",
    "print(\"Original List :\", myList)\n",
    "print(\"No occurrences of 10 in List :\", myList.count(10))"
   ]
  },
  {
   "cell_type": "markdown",
   "metadata": {},
   "source": [
    "___"
   ]
  },
  {
   "cell_type": "markdown",
   "metadata": {},
   "source": [
    "### 26) How to insert an item at a given position?\n",
    "> ***Ans : `insert()` function is used to insert an item at a given position.***"
   ]
  },
  {
   "cell_type": "code",
   "execution_count": 40,
   "metadata": {},
   "outputs": [
    {
     "name": "stdout",
     "output_type": "stream",
     "text": [
      "Original List : [3, 9, 369]\n",
      "After inserting a element in the list : [3, 6, 9, 369]\n"
     ]
    }
   ],
   "source": [
    "myList = [3,9,369]\n",
    "print(\"Original List :\", myList)\n",
    "myList.insert(1,6)\n",
    "print(\"After inserting a element in the list :\", myList)"
   ]
  },
  {
   "cell_type": "markdown",
   "metadata": {},
   "source": [
    "___"
   ]
  },
  {
   "cell_type": "markdown",
   "metadata": {},
   "source": [
    "### 27) How to check if an item is in the list?\n",
    "> ***Ans : To check if an item is present in the list or not, membership operators `in` and `not in` can be used.***"
   ]
  },
  {
   "cell_type": "code",
   "execution_count": 41,
   "metadata": {},
   "outputs": [
    {
     "name": "stdout",
     "output_type": "stream",
     "text": [
      "9 is present in the List\n",
      "963 is not present in the List\n"
     ]
    }
   ],
   "source": [
    "myList = [3, 6, 9, 33, 66, 99]\n",
    "if 9 in myList:\n",
    "    print(\"9 is present in the List\")\n",
    "if 963 not in myList:\n",
    "    print(\"963 is not present in the List\")"
   ]
  },
  {
   "cell_type": "markdown",
   "metadata": {},
   "source": [
    "___"
   ]
  },
  {
   "cell_type": "markdown",
   "metadata": {},
   "source": [
    "### 28) How to flatten a list in python?\n",
    "> ***Ans : To flatten a list in python, nested loops and 'for each' syntax can be used.***"
   ]
  },
  {
   "cell_type": "code",
   "execution_count": 42,
   "metadata": {},
   "outputs": [
    {
     "name": "stdout",
     "output_type": "stream",
     "text": [
      "Original List : [[3, 33, 333], [6, 66, 666], [9, 99, 999]]\n",
      "Flattened List : 3 33 333 6 66 666 9 99 999 "
     ]
    }
   ],
   "source": [
    "myList = [ [3, 33, 333], [6, 66, 666], [9, 99, 999] ]\n",
    "print(\"Original List :\", myList)\n",
    "print(\"Flattened List :\", end=\" \")\n",
    "for lst in myList:\n",
    "    for value in lst:\n",
    "        print(value, end=\" \")"
   ]
  },
  {
   "cell_type": "markdown",
   "metadata": {},
   "source": [
    "___"
   ]
  },
  {
   "cell_type": "markdown",
   "metadata": {},
   "source": [
    "### 29) How to convert python list to other data structures like set, tuple, dictionary?"
   ]
  },
  {
   "cell_type": "code",
   "execution_count": 43,
   "metadata": {},
   "outputs": [],
   "source": [
    "myList = [3, 6, 9, 33, 66, 99]"
   ]
  },
  {
   "cell_type": "code",
   "execution_count": 44,
   "metadata": {},
   "outputs": [
    {
     "data": {
      "text/plain": [
       "set"
      ]
     },
     "execution_count": 44,
     "metadata": {},
     "output_type": "execute_result"
    }
   ],
   "source": [
    "# set() - to convert to python set\n",
    "type(set(myList))"
   ]
  },
  {
   "cell_type": "code",
   "execution_count": 45,
   "metadata": {},
   "outputs": [
    {
     "data": {
      "text/plain": [
       "tuple"
      ]
     },
     "execution_count": 45,
     "metadata": {},
     "output_type": "execute_result"
    }
   ],
   "source": [
    "# tuple() - to convert to python tuple\n",
    "type(tuple(myList))"
   ]
  },
  {
   "cell_type": "code",
   "execution_count": 46,
   "metadata": {},
   "outputs": [
    {
     "data": {
      "text/plain": [
       "dict"
      ]
     },
     "execution_count": 46,
     "metadata": {},
     "output_type": "execute_result"
    }
   ],
   "source": [
    "d = {\"Values\" : myList}\n",
    "type(d)"
   ]
  },
  {
   "cell_type": "markdown",
   "metadata": {},
   "source": [
    "___"
   ]
  },
  {
   "cell_type": "markdown",
   "metadata": {},
   "source": [
    "### 30) How to apply a function to all items in the list?"
   ]
  },
  {
   "cell_type": "code",
   "execution_count": 47,
   "metadata": {},
   "outputs": [
    {
     "name": "stdout",
     "output_type": "stream",
     "text": [
      "Original List : [1, 5, 9, 12, 15]\n",
      "Cubes using List Comprehension [1, 125, 729, 1728, 3375]\n",
      "Cubes using map() function [1, 125, 729, 1728, 3375]\n"
     ]
    }
   ],
   "source": [
    "def cube(x):\n",
    "    return x ** 3\n",
    "\n",
    "myList = [1,5,9,12,15]\n",
    "print(\"Original List :\", myList)\n",
    "\n",
    "# using list comprehension\n",
    "outputList1 = [cube(i) for i in myList]\n",
    "print(\"Cubes using List Comprehension\", outputList1)\n",
    "\n",
    "# using map()\n",
    "outputList2 = list(map(cube, myList))\n",
    "print(\"Cubes using map() function\", outputList2)"
   ]
  },
  {
   "cell_type": "markdown",
   "metadata": {},
   "source": [
    "___"
   ]
  },
  {
   "cell_type": "markdown",
   "metadata": {},
   "source": [
    "### 31) How to filter the elements based on a function in a python list?"
   ]
  },
  {
   "cell_type": "code",
   "execution_count": 48,
   "metadata": {},
   "outputs": [
    {
     "name": "stdout",
     "output_type": "stream",
     "text": [
      "Original List : [1, 5, 9, 12, 15]\n",
      "Filtered List : [9, 12, 15]\n"
     ]
    }
   ],
   "source": [
    "# using filter() and user defined lambda function\n",
    "myList = [1,5,9,12,15]\n",
    "print(\"Original List :\", myList)\n",
    "filtered = filter(lambda num: num > 5, myList)\n",
    "print(\"Filtered List :\", list(filtered))"
   ]
  },
  {
   "cell_type": "markdown",
   "metadata": {},
   "source": [
    "___"
   ]
  },
  {
   "cell_type": "markdown",
   "metadata": {},
   "source": [
    "### 32) How python lists are stored in memory?\n",
    "> ***Ans : The list object consists of two internal parts; one object header, and one separately allocated array of object references.***\n"
   ]
  },
  {
   "cell_type": "markdown",
   "metadata": {},
   "source": [
    "___"
   ]
  }
 ],
 "metadata": {
  "kernelspec": {
   "display_name": "Python 3",
   "language": "python",
   "name": "python3"
  },
  "language_info": {
   "codemirror_mode": {
    "name": "ipython",
    "version": 3
   },
   "file_extension": ".py",
   "mimetype": "text/x-python",
   "name": "python",
   "nbconvert_exporter": "python",
   "pygments_lexer": "ipython3",
   "version": "3.8.5"
  }
 },
 "nbformat": 4,
 "nbformat_minor": 5
}
