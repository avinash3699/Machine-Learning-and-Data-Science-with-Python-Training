{
 "cells": [
  {
   "cell_type": "markdown",
   "metadata": {},
   "source": [
    "## TASK 3\n",
    "\n",
    "### NAME : AVINASH M\n",
    "### REG NO. : GO_STP_8305\n",
    "### DATE : 26.05.2021"
   ]
  },
  {
   "cell_type": "markdown",
   "metadata": {},
   "source": [
    "___"
   ]
  },
  {
   "cell_type": "markdown",
   "metadata": {},
   "source": [
    "### Questions on Dictionary"
   ]
  },
  {
   "cell_type": "markdown",
   "metadata": {},
   "source": [
    "**Q.1 Write a Python Program to sort (ascending and descending) a dictionary by value.**"
   ]
  },
  {
   "cell_type": "code",
   "execution_count": 1,
   "metadata": {},
   "outputs": [
    {
     "name": "stdout",
     "output_type": "stream",
     "text": [
      "Original dictionary :  {'A': 963, 'B': 99, 'C': 333, 'D': 999, 'E': 399}\n",
      "Dictionary in ascending order by value :  {'B': 99, 'C': 333, 'E': 399, 'A': 963, 'D': 999}\n",
      "Dictionary in descending order by value :  {'D': 999, 'A': 963, 'E': 399, 'C': 333, 'B': 99}\n"
     ]
    }
   ],
   "source": [
    "import operator\n",
    "\n",
    "priceOfProducts = {\"A\" : 963, \"B\" : 99, \"C\" : 333, \"D\" : 999, \"E\": 399}\n",
    "print(\"Original dictionary : \", priceOfProducts)\n",
    "\n",
    "sortedAscending = dict(sorted(priceOfProducts.items(), key=operator.itemgetter(1)))\n",
    "print(\"Dictionary in ascending order by value : \", sortedAscending)\n",
    "\n",
    "sortedDescending = dict(sorted(priceOfProducts.items(), key=operator.itemgetter(1),reverse=True))\n",
    "print(\"Dictionary in descending order by value : \", sortedDescending)"
   ]
  },
  {
   "cell_type": "markdown",
   "metadata": {},
   "source": [
    "___"
   ]
  },
  {
   "cell_type": "markdown",
   "metadata": {},
   "source": [
    "**Q.2 Write a Python Program to add a key to a dictionary.**\n",
    "\n",
    "Sample Dictionary : `{0: 10, 1: 20}`<br>\n",
    "Expected Result : `{0: 10, 1: 20, 2: 30}`"
   ]
  },
  {
   "cell_type": "code",
   "execution_count": 2,
   "metadata": {},
   "outputs": [
    {
     "name": "stdout",
     "output_type": "stream",
     "text": [
      "Initial Dictionary : {0: 10, 1: 20}\n",
      "Dictionary after adding a key : {0: 10, 1: 20, 2: 30}\n"
     ]
    }
   ],
   "source": [
    "initialDictionary = { 0 : 10, 1 : 20}\n",
    "print(\"Initial Dictionary : %s\" % initialDictionary)\n",
    "initialDictionary[2] = 30\n",
    "print(\"Dictionary after adding a key : %s\" % initialDictionary)"
   ]
  },
  {
   "cell_type": "markdown",
   "metadata": {},
   "source": [
    "___"
   ]
  },
  {
   "cell_type": "markdown",
   "metadata": {},
   "source": [
    "**Q.3 Write a  program asks for City name and Temperature and builds a dictionary using that Later on you can input City name and it will tell you the Temperature of that City.**"
   ]
  },
  {
   "cell_type": "code",
   "execution_count": 3,
   "metadata": {},
   "outputs": [
    {
     "name": "stdout",
     "output_type": "stream",
     "text": [
      "Enter the City Name : Chennai\n",
      "Enter Temperature in Fahrenheit: 108\n",
      "Do you want to add more cities (Yes/No) : yes\n",
      "Enter the City Name : Mumbai\n",
      "Enter Temperature in Fahrenheit: 84\n",
      "Do you want to add more cities (Yes/No) : YES\n",
      "Enter the City Name : Bangalore\n",
      "Enter Temperature in Fahrenheit: 90\n",
      "Do you want to add more cities (Yes/No) : no\n",
      "Enter the city to see it's temperature : Chennai\n",
      "Temperature in Chennai is 108.00 °F\n"
     ]
    }
   ],
   "source": [
    "citiesWithTemperature = dict()\n",
    "toContinue = True\n",
    "while(toContinue):\n",
    "    city = input(\"Enter the City Name : \").strip()\n",
    "    temperature = float(input(\"Enter Temperature in Fahrenheit: \").strip())\n",
    "    citiesWithTemperature[city] = temperature\n",
    "    canStop = input(\"Do you want to add more cities (Yes/No) : \").strip()\n",
    "    if not canStop.lower() == \"yes\":\n",
    "        toContinue = False\n",
    "requiredCity = input(\"Enter the city to see it's temperature : \").strip()\n",
    "print(\"Temperature in %s is %.2f °F\" % (requiredCity,citiesWithTemperature[requiredCity]))"
   ]
  },
  {
   "cell_type": "markdown",
   "metadata": {},
   "source": [
    "___"
   ]
  },
  {
   "cell_type": "markdown",
   "metadata": {},
   "source": [
    "**Q.4 Write a Python program to convert list to list of dictionaries.**\n",
    "\n",
    "Sample lists: `[\"Black\", \"Red\", \"Maroon\", \"Yellow\"], [\"#000000\", \"#FF0000\", \"#800000\", \"#FFFF00\"]`\n",
    "\n",
    "Expected Output:\n",
    "\n",
    "    {'color_name': 'Black', 'color_code': '#000000'},\n",
    "    {'color_name': 'Red', 'color_code': '#FF0000'},\n",
    "    {'color_name': 'Maroon', 'color_code': '#800000'},\n",
    "    {'color_name': 'Yellow', 'color_code': '#FFFF00'}\n"
   ]
  },
  {
   "cell_type": "code",
   "execution_count": 4,
   "metadata": {},
   "outputs": [
    {
     "name": "stdout",
     "output_type": "stream",
     "text": [
      "{'color_name': 'Black', 'color_code': '#000000'}\n",
      "{'color_name': 'Red', 'color_code': '#FF0000'}\n",
      "{'color_name': 'Maroon', 'color_code': '#800000'}\n",
      "{'color_name': 'Yellow', 'color_code': '#FFFF00'}\n"
     ]
    }
   ],
   "source": [
    "colorNameList = [\"Black\", \"Red\", \"Maroon\", \"Yellow\"]\n",
    "colorCodeList = [\"#000000\", \"#FF0000\", \"#800000\", \"#FFFF00\"]\n",
    "combinedList = []\n",
    "for colorName, colorCode in zip(colorNameList, colorCodeList):\n",
    "    colorNameWithCodeDict = {\"color_name\" : colorName, \"color_code\" : colorCode}\n",
    "    combinedList.append(colorNameWithCodeDict)\n",
    "print(*combinedList, sep = \"\\n\")"
   ]
  },
  {
   "cell_type": "markdown",
   "metadata": {},
   "source": [
    "___"
   ]
  },
  {
   "cell_type": "markdown",
   "metadata": {},
   "source": [
    "**Q.5 We have following information on Employees and their Salary (Salary is in lakhs).**\n",
    "\n",
    "| Employee | Salary |\n",
    "| -------- | ------ |\n",
    "|John | 14 |\n",
    "|Smith| 13 |\n",
    "|Alice|\t32 |\n",
    "|Daneil| 21 |\n",
    "\n",
    "1.Using above create a dictionary of Employees and their Salary.\n",
    "\n",
    "2.Write a program that asks user for three type of inputs,\n",
    "\n",
    "    a.print: if user enter print then it should print all Employees with their Salary in this format,\n",
    "        John ==>14\n",
    "        Smith ==>13\n",
    "        Alice ==>32\n",
    "        Daneil ==>21\n",
    "        \n",
    "    b.add: if user input adds then it should further ask for an Employee name to add. If Employee already exists in our dataset then it should print that it exists and do nothing. If it doesn't then it asks for Salary and add that new Employee/Salary in our dictionary and print it\n",
    "    \n",
    "    c.remove: when user inputs remove it should ask for an Employee to remove. If an Employee exists in our dictionary then remove it and print a new dictionary using format shown above in (a). Else print that Employee doesn't exist!\n",
    "\n",
    "    d.query: on this again ask the user for which Employee he or she wants to query. When a user inputs that Employee it will print the Salary of that Employee."
   ]
  },
  {
   "cell_type": "code",
   "execution_count": 5,
   "metadata": {},
   "outputs": [
    {
     "name": "stdout",
     "output_type": "stream",
     "text": [
      "\n",
      "1) Print All the records : \n",
      "2) Add New Record : \n",
      "3) Remove exists Record : \n",
      "4) Query Single Record: \n",
      "5) Exit\n",
      "Enter the Option : 1\n",
      "\n",
      "Employee ==> Salary\n",
      "John ==> 14\n",
      "Smith ==> 13\n",
      "Alice ==> 32\n",
      "Daneil ==> 21\n",
      "\n",
      "1) Print All the records : \n",
      "2) Add New Record : \n",
      "3) Remove exists Record : \n",
      "4) Query Single Record: \n",
      "5) Exit\n",
      "Enter the Option : 2\n",
      "\n",
      "Enter the employee name : Avinash\n",
      "Enter Salary : 100\n",
      "\n",
      "Employee ==> Salary\n",
      "John ==> 14\n",
      "Smith ==> 13\n",
      "Alice ==> 32\n",
      "Daneil ==> 21\n",
      "Avinash ==> 100\n",
      "\n",
      "1) Print All the records : \n",
      "2) Add New Record : \n",
      "3) Remove exists Record : \n",
      "4) Query Single Record: \n",
      "5) Exit\n",
      "Enter the Option : 3\n",
      "\n",
      "Enter the name of employee to remove : Smith\n",
      "\n",
      "Employee ==> Salary\n",
      "John ==> 14\n",
      "Alice ==> 32\n",
      "Daneil ==> 21\n",
      "Avinash ==> 100\n",
      "\n",
      "1) Print All the records : \n",
      "2) Add New Record : \n",
      "3) Remove exists Record : \n",
      "4) Query Single Record: \n",
      "5) Exit\n",
      "Enter the Option : 4\n",
      "\n",
      "Enter the Employee Name : Avinash\n",
      "The Salary of Given Employee :  100\n",
      "\n",
      "1) Print All the records : \n",
      "2) Add New Record : \n",
      "3) Remove exists Record : \n",
      "4) Query Single Record: \n",
      "5) Exit\n",
      "Enter the Option : 10\n",
      "Invalid Option. Please try again\n",
      "\n",
      "1) Print All the records : \n",
      "2) Add New Record : \n",
      "3) Remove exists Record : \n",
      "4) Query Single Record: \n",
      "5) Exit\n",
      "Enter the Option : 5\n",
      "Thank you!\n"
     ]
    }
   ],
   "source": [
    "employeeSalary = {'John' : 14, 'Smith' : 13, 'Alice' : 32, 'Daneil' : 21}\n",
    "\n",
    "def printDictionary():\n",
    "    print(\"\\nEmployee ==> Salary\")\n",
    "    for employee in employeeSalary:\n",
    "        print(\"%s ==> %d\" % (employee, employeeSalary[employee]) )\n",
    "        \n",
    "def addEmployee():\n",
    "    employeeName = input(\"\\nEnter the employee name : \").strip().capitalize()\n",
    "    empSalary = int(input(\"Enter Salary : \").strip())\n",
    "    if employeeName in employeeSalary:\n",
    "        print(\"Employee Already Exists!\")\n",
    "        return\n",
    "    employeeSalary[employeeName] = empSalary\n",
    "    \n",
    "def removeEmployee():\n",
    "    employeeName = input(\"\\nEnter the name of employee to remove : \").strip().capitalize()\n",
    "    if employeeName in employeeSalary:\n",
    "        employeeSalary.pop(employeeName)\n",
    "        return\n",
    "    print(\"Employee doesn't exist! Please try again\")\n",
    "    \n",
    "def query():\n",
    "    employeeName = input(\"\\nEnter the Employee Name : \").strip().capitalize()\n",
    "    if employeeName in employeeSalary:\n",
    "        print(\"The Salary of Given Employee : \", employeeSalary[employeeName])\n",
    "    else:\n",
    "        print(\"The Given Employee Not Exists !\")\n",
    "\n",
    "toContinue = True\n",
    "\n",
    "while(toContinue):\n",
    "    print('\\n1) Print All the records : ')\n",
    "    print('2) Add New Record : ')\n",
    "    print('3) Remove exists Record : ')\n",
    "    print('4) Query Single Record: ')\n",
    "    print('5) Exit')\n",
    "    option = int(input('Enter the Option : '))\n",
    "    if option == 1:\n",
    "        printDictionary()\n",
    "    elif option == 2:\n",
    "        addEmployee()\n",
    "        printDictionary()\n",
    "    elif option == 3:\n",
    "        removeEmployee()\n",
    "        printDictionary()\n",
    "    elif option == 4:\n",
    "        query()\n",
    "    elif option == 5:\n",
    "        print(\"Thank you!\")\n",
    "        toContinue = False\n",
    "    else:\n",
    "        print('Invalid Option. Please try again')"
   ]
  },
  {
   "cell_type": "markdown",
   "metadata": {},
   "source": [
    "### Questions on Sets"
   ]
  },
  {
   "cell_type": "markdown",
   "metadata": {},
   "source": [
    "**Q.1 What is the difference between a set and a frozenset? Create any set and try to use frozenset(setname).**\n",
    "> ***Ans : A `set` is mutable whereas a `frozenset` is immutable. But they both contain only unique elements.***"
   ]
  },
  {
   "cell_type": "code",
   "execution_count": 6,
   "metadata": {},
   "outputs": [
    {
     "name": "stdout",
     "output_type": "stream",
     "text": [
      "Set : {1, 2, 3, 4, 5, 6}\n",
      "Frozen Set : frozenset({1, 2, 3, 4, 5, 6})\n"
     ]
    }
   ],
   "source": [
    "studentRollNo = {1, 2, 3, 4, 5, 6}\n",
    "frozenSet = frozenset(studentRollNo)\n",
    "print(\"Set : %s\" % studentRollNo)\n",
    "print(\"Frozen Set : %s\" % frozenSet)"
   ]
  },
  {
   "cell_type": "markdown",
   "metadata": {},
   "source": [
    "___"
   ]
  },
  {
   "cell_type": "markdown",
   "metadata": {},
   "source": [
    "**Q.2 Find the elements in a given set that are not in another set**\n",
    "\n",
    "    set1 = {10,20,30,40,50}\n",
    "\n",
    "    set2 = {40,50,60,70,80}\n",
    "\n",
    " Difference between set1 and set2 is {10,20,30}"
   ]
  },
  {
   "cell_type": "code",
   "execution_count": 7,
   "metadata": {},
   "outputs": [
    {
     "name": "stdout",
     "output_type": "stream",
     "text": [
      "Difference between set1 and set2 is {10, 20, 30}\n"
     ]
    }
   ],
   "source": [
    "set1 = {10,20,30,40,50}\n",
    "set2 = {40,50,60,70,80}\n",
    "print(\"Difference between set1 and set2 is %s\" % (set1-set2))"
   ]
  },
  {
   "cell_type": "markdown",
   "metadata": {},
   "source": [
    "___"
   ]
  }
 ],
 "metadata": {
  "kernelspec": {
   "display_name": "Python 3",
   "language": "python",
   "name": "python3"
  },
  "language_info": {
   "codemirror_mode": {
    "name": "ipython",
    "version": 3
   },
   "file_extension": ".py",
   "mimetype": "text/x-python",
   "name": "python",
   "nbconvert_exporter": "python",
   "pygments_lexer": "ipython3",
   "version": "3.8.5"
  }
 },
 "nbformat": 4,
 "nbformat_minor": 4
}
